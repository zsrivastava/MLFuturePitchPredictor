{
 "cells": [
  {
   "cell_type": "code",
   "execution_count": 1,
   "metadata": {},
   "outputs": [],
   "source": [
    "import numpy as np\n",
    "import pandas as pd\n",
    "import matplotlib.pyplot as plt\n",
    "from sklearn.model_selection import train_test_split\n",
    "from sklearn.tree import DecisionTreeClassifier\n",
    "from sklearn.neural_network import MLPClassifier\n",
    "from sklearn.ensemble import RandomForestClassifier\n",
    "from sklearn.ensemble import GradientBoostingClassifier\n",
    "from sklearn import metrics \n",
    "from sklearn.metrics import plot_confusion_matrix"
   ]
  },
  {
   "cell_type": "markdown",
   "metadata": {},
   "source": [
    "# Importing the Dataset\n",
    "Data was found on baseball savant, filtered by pitchers in the 2020 season"
   ]
  },
  {
   "cell_type": "code",
   "execution_count": 2,
   "metadata": {},
   "outputs": [],
   "source": [
    "pitcher_data = pd.read_csv('Downloads/degrom_data.csv')"
   ]
  },
  {
   "cell_type": "code",
   "execution_count": 3,
   "metadata": {},
   "outputs": [
    {
     "data": {
      "text/html": [
       "<div>\n",
       "<style scoped>\n",
       "    .dataframe tbody tr th:only-of-type {\n",
       "        vertical-align: middle;\n",
       "    }\n",
       "\n",
       "    .dataframe tbody tr th {\n",
       "        vertical-align: top;\n",
       "    }\n",
       "\n",
       "    .dataframe thead th {\n",
       "        text-align: right;\n",
       "    }\n",
       "</style>\n",
       "<table border=\"1\" class=\"dataframe\">\n",
       "  <thead>\n",
       "    <tr style=\"text-align: right;\">\n",
       "      <th></th>\n",
       "      <th>pitch_type</th>\n",
       "      <th>game_date</th>\n",
       "      <th>release_speed</th>\n",
       "      <th>release_pos_x</th>\n",
       "      <th>release_pos_z</th>\n",
       "      <th>player_name</th>\n",
       "      <th>batter</th>\n",
       "      <th>pitcher</th>\n",
       "      <th>events</th>\n",
       "      <th>description</th>\n",
       "      <th>...</th>\n",
       "      <th>home_score</th>\n",
       "      <th>away_score</th>\n",
       "      <th>bat_score</th>\n",
       "      <th>fld_score</th>\n",
       "      <th>post_away_score</th>\n",
       "      <th>post_home_score</th>\n",
       "      <th>post_bat_score</th>\n",
       "      <th>post_fld_score</th>\n",
       "      <th>if_fielding_alignment</th>\n",
       "      <th>of_fielding_alignment</th>\n",
       "    </tr>\n",
       "  </thead>\n",
       "  <tbody>\n",
       "    <tr>\n",
       "      <th>0</th>\n",
       "      <td>SL</td>\n",
       "      <td>2020-09-26</td>\n",
       "      <td>92.8</td>\n",
       "      <td>-1.03</td>\n",
       "      <td>5.53</td>\n",
       "      <td>Jacob deGrom</td>\n",
       "      <td>628450</td>\n",
       "      <td>594798</td>\n",
       "      <td>strikeout</td>\n",
       "      <td>swinging_strike</td>\n",
       "      <td>...</td>\n",
       "      <td>3</td>\n",
       "      <td>3</td>\n",
       "      <td>3</td>\n",
       "      <td>3</td>\n",
       "      <td>3</td>\n",
       "      <td>3</td>\n",
       "      <td>3</td>\n",
       "      <td>3</td>\n",
       "      <td>Strategic</td>\n",
       "      <td>Standard</td>\n",
       "    </tr>\n",
       "    <tr>\n",
       "      <th>1</th>\n",
       "      <td>FF</td>\n",
       "      <td>2020-09-26</td>\n",
       "      <td>99.3</td>\n",
       "      <td>-1.06</td>\n",
       "      <td>5.46</td>\n",
       "      <td>Jacob deGrom</td>\n",
       "      <td>628450</td>\n",
       "      <td>594798</td>\n",
       "      <td>NaN</td>\n",
       "      <td>foul</td>\n",
       "      <td>...</td>\n",
       "      <td>3</td>\n",
       "      <td>3</td>\n",
       "      <td>3</td>\n",
       "      <td>3</td>\n",
       "      <td>3</td>\n",
       "      <td>3</td>\n",
       "      <td>3</td>\n",
       "      <td>3</td>\n",
       "      <td>Strategic</td>\n",
       "      <td>Standard</td>\n",
       "    </tr>\n",
       "    <tr>\n",
       "      <th>2</th>\n",
       "      <td>CH</td>\n",
       "      <td>2020-09-26</td>\n",
       "      <td>92.2</td>\n",
       "      <td>-1.01</td>\n",
       "      <td>5.39</td>\n",
       "      <td>Jacob deGrom</td>\n",
       "      <td>628450</td>\n",
       "      <td>594798</td>\n",
       "      <td>NaN</td>\n",
       "      <td>foul</td>\n",
       "      <td>...</td>\n",
       "      <td>3</td>\n",
       "      <td>3</td>\n",
       "      <td>3</td>\n",
       "      <td>3</td>\n",
       "      <td>3</td>\n",
       "      <td>3</td>\n",
       "      <td>3</td>\n",
       "      <td>3</td>\n",
       "      <td>Strategic</td>\n",
       "      <td>Standard</td>\n",
       "    </tr>\n",
       "    <tr>\n",
       "      <th>3</th>\n",
       "      <td>CH</td>\n",
       "      <td>2020-09-26</td>\n",
       "      <td>89.8</td>\n",
       "      <td>-0.93</td>\n",
       "      <td>5.45</td>\n",
       "      <td>Jacob deGrom</td>\n",
       "      <td>628450</td>\n",
       "      <td>594798</td>\n",
       "      <td>NaN</td>\n",
       "      <td>ball</td>\n",
       "      <td>...</td>\n",
       "      <td>3</td>\n",
       "      <td>3</td>\n",
       "      <td>3</td>\n",
       "      <td>3</td>\n",
       "      <td>3</td>\n",
       "      <td>3</td>\n",
       "      <td>3</td>\n",
       "      <td>3</td>\n",
       "      <td>Strategic</td>\n",
       "      <td>Standard</td>\n",
       "    </tr>\n",
       "    <tr>\n",
       "      <th>4</th>\n",
       "      <td>CH</td>\n",
       "      <td>2020-09-26</td>\n",
       "      <td>91.8</td>\n",
       "      <td>-0.97</td>\n",
       "      <td>5.37</td>\n",
       "      <td>Jacob deGrom</td>\n",
       "      <td>628450</td>\n",
       "      <td>594798</td>\n",
       "      <td>NaN</td>\n",
       "      <td>foul</td>\n",
       "      <td>...</td>\n",
       "      <td>3</td>\n",
       "      <td>3</td>\n",
       "      <td>3</td>\n",
       "      <td>3</td>\n",
       "      <td>3</td>\n",
       "      <td>3</td>\n",
       "      <td>3</td>\n",
       "      <td>3</td>\n",
       "      <td>Strategic</td>\n",
       "      <td>Standard</td>\n",
       "    </tr>\n",
       "    <tr>\n",
       "      <th>...</th>\n",
       "      <td>...</td>\n",
       "      <td>...</td>\n",
       "      <td>...</td>\n",
       "      <td>...</td>\n",
       "      <td>...</td>\n",
       "      <td>...</td>\n",
       "      <td>...</td>\n",
       "      <td>...</td>\n",
       "      <td>...</td>\n",
       "      <td>...</td>\n",
       "      <td>...</td>\n",
       "      <td>...</td>\n",
       "      <td>...</td>\n",
       "      <td>...</td>\n",
       "      <td>...</td>\n",
       "      <td>...</td>\n",
       "      <td>...</td>\n",
       "      <td>...</td>\n",
       "      <td>...</td>\n",
       "      <td>...</td>\n",
       "      <td>...</td>\n",
       "    </tr>\n",
       "    <tr>\n",
       "      <th>1130</th>\n",
       "      <td>FF</td>\n",
       "      <td>2020-07-24</td>\n",
       "      <td>99.7</td>\n",
       "      <td>-1.08</td>\n",
       "      <td>5.53</td>\n",
       "      <td>Jacob deGrom</td>\n",
       "      <td>660670</td>\n",
       "      <td>594798</td>\n",
       "      <td>NaN</td>\n",
       "      <td>ball</td>\n",
       "      <td>...</td>\n",
       "      <td>0</td>\n",
       "      <td>0</td>\n",
       "      <td>0</td>\n",
       "      <td>0</td>\n",
       "      <td>0</td>\n",
       "      <td>0</td>\n",
       "      <td>0</td>\n",
       "      <td>0</td>\n",
       "      <td>Standard</td>\n",
       "      <td>Standard</td>\n",
       "    </tr>\n",
       "    <tr>\n",
       "      <th>1131</th>\n",
       "      <td>FF</td>\n",
       "      <td>2020-07-24</td>\n",
       "      <td>99.0</td>\n",
       "      <td>-1.22</td>\n",
       "      <td>5.51</td>\n",
       "      <td>Jacob deGrom</td>\n",
       "      <td>660670</td>\n",
       "      <td>594798</td>\n",
       "      <td>NaN</td>\n",
       "      <td>foul</td>\n",
       "      <td>...</td>\n",
       "      <td>0</td>\n",
       "      <td>0</td>\n",
       "      <td>0</td>\n",
       "      <td>0</td>\n",
       "      <td>0</td>\n",
       "      <td>0</td>\n",
       "      <td>0</td>\n",
       "      <td>0</td>\n",
       "      <td>Standard</td>\n",
       "      <td>Standard</td>\n",
       "    </tr>\n",
       "    <tr>\n",
       "      <th>1132</th>\n",
       "      <td>FF</td>\n",
       "      <td>2020-07-24</td>\n",
       "      <td>99.2</td>\n",
       "      <td>-1.15</td>\n",
       "      <td>5.50</td>\n",
       "      <td>Jacob deGrom</td>\n",
       "      <td>660670</td>\n",
       "      <td>594798</td>\n",
       "      <td>NaN</td>\n",
       "      <td>ball</td>\n",
       "      <td>...</td>\n",
       "      <td>0</td>\n",
       "      <td>0</td>\n",
       "      <td>0</td>\n",
       "      <td>0</td>\n",
       "      <td>0</td>\n",
       "      <td>0</td>\n",
       "      <td>0</td>\n",
       "      <td>0</td>\n",
       "      <td>Standard</td>\n",
       "      <td>Standard</td>\n",
       "    </tr>\n",
       "    <tr>\n",
       "      <th>1133</th>\n",
       "      <td>FF</td>\n",
       "      <td>2020-07-24</td>\n",
       "      <td>99.1</td>\n",
       "      <td>-1.23</td>\n",
       "      <td>5.48</td>\n",
       "      <td>Jacob deGrom</td>\n",
       "      <td>660670</td>\n",
       "      <td>594798</td>\n",
       "      <td>NaN</td>\n",
       "      <td>swinging_strike</td>\n",
       "      <td>...</td>\n",
       "      <td>0</td>\n",
       "      <td>0</td>\n",
       "      <td>0</td>\n",
       "      <td>0</td>\n",
       "      <td>0</td>\n",
       "      <td>0</td>\n",
       "      <td>0</td>\n",
       "      <td>0</td>\n",
       "      <td>Standard</td>\n",
       "      <td>Standard</td>\n",
       "    </tr>\n",
       "    <tr>\n",
       "      <th>1134</th>\n",
       "      <td>FF</td>\n",
       "      <td>2020-07-24</td>\n",
       "      <td>99.1</td>\n",
       "      <td>-1.30</td>\n",
       "      <td>5.53</td>\n",
       "      <td>Jacob deGrom</td>\n",
       "      <td>660670</td>\n",
       "      <td>594798</td>\n",
       "      <td>NaN</td>\n",
       "      <td>swinging_strike</td>\n",
       "      <td>...</td>\n",
       "      <td>0</td>\n",
       "      <td>0</td>\n",
       "      <td>0</td>\n",
       "      <td>0</td>\n",
       "      <td>0</td>\n",
       "      <td>0</td>\n",
       "      <td>0</td>\n",
       "      <td>0</td>\n",
       "      <td>Standard</td>\n",
       "      <td>Standard</td>\n",
       "    </tr>\n",
       "  </tbody>\n",
       "</table>\n",
       "<p>1135 rows × 89 columns</p>\n",
       "</div>"
      ],
      "text/plain": [
       "     pitch_type   game_date  release_speed  release_pos_x  release_pos_z  \\\n",
       "0            SL  2020-09-26           92.8          -1.03           5.53   \n",
       "1            FF  2020-09-26           99.3          -1.06           5.46   \n",
       "2            CH  2020-09-26           92.2          -1.01           5.39   \n",
       "3            CH  2020-09-26           89.8          -0.93           5.45   \n",
       "4            CH  2020-09-26           91.8          -0.97           5.37   \n",
       "...         ...         ...            ...            ...            ...   \n",
       "1130         FF  2020-07-24           99.7          -1.08           5.53   \n",
       "1131         FF  2020-07-24           99.0          -1.22           5.51   \n",
       "1132         FF  2020-07-24           99.2          -1.15           5.50   \n",
       "1133         FF  2020-07-24           99.1          -1.23           5.48   \n",
       "1134         FF  2020-07-24           99.1          -1.30           5.53   \n",
       "\n",
       "       player_name  batter  pitcher     events      description  ...  \\\n",
       "0     Jacob deGrom  628450   594798  strikeout  swinging_strike  ...   \n",
       "1     Jacob deGrom  628450   594798        NaN             foul  ...   \n",
       "2     Jacob deGrom  628450   594798        NaN             foul  ...   \n",
       "3     Jacob deGrom  628450   594798        NaN             ball  ...   \n",
       "4     Jacob deGrom  628450   594798        NaN             foul  ...   \n",
       "...            ...     ...      ...        ...              ...  ...   \n",
       "1130  Jacob deGrom  660670   594798        NaN             ball  ...   \n",
       "1131  Jacob deGrom  660670   594798        NaN             foul  ...   \n",
       "1132  Jacob deGrom  660670   594798        NaN             ball  ...   \n",
       "1133  Jacob deGrom  660670   594798        NaN  swinging_strike  ...   \n",
       "1134  Jacob deGrom  660670   594798        NaN  swinging_strike  ...   \n",
       "\n",
       "      home_score  away_score  bat_score  fld_score  post_away_score  \\\n",
       "0              3           3          3          3                3   \n",
       "1              3           3          3          3                3   \n",
       "2              3           3          3          3                3   \n",
       "3              3           3          3          3                3   \n",
       "4              3           3          3          3                3   \n",
       "...          ...         ...        ...        ...              ...   \n",
       "1130           0           0          0          0                0   \n",
       "1131           0           0          0          0                0   \n",
       "1132           0           0          0          0                0   \n",
       "1133           0           0          0          0                0   \n",
       "1134           0           0          0          0                0   \n",
       "\n",
       "     post_home_score post_bat_score post_fld_score if_fielding_alignment  \\\n",
       "0                  3              3              3             Strategic   \n",
       "1                  3              3              3             Strategic   \n",
       "2                  3              3              3             Strategic   \n",
       "3                  3              3              3             Strategic   \n",
       "4                  3              3              3             Strategic   \n",
       "...              ...            ...            ...                   ...   \n",
       "1130               0              0              0              Standard   \n",
       "1131               0              0              0              Standard   \n",
       "1132               0              0              0              Standard   \n",
       "1133               0              0              0              Standard   \n",
       "1134               0              0              0              Standard   \n",
       "\n",
       "     of_fielding_alignment  \n",
       "0                 Standard  \n",
       "1                 Standard  \n",
       "2                 Standard  \n",
       "3                 Standard  \n",
       "4                 Standard  \n",
       "...                    ...  \n",
       "1130              Standard  \n",
       "1131              Standard  \n",
       "1132              Standard  \n",
       "1133              Standard  \n",
       "1134              Standard  \n",
       "\n",
       "[1135 rows x 89 columns]"
      ]
     },
     "execution_count": 3,
     "metadata": {},
     "output_type": "execute_result"
    }
   ],
   "source": [
    "pitcher_data"
   ]
  },
  {
   "cell_type": "markdown",
   "metadata": {},
   "source": [
    "### Pie Chart Showing Percentage of Each Pitch Thrown"
   ]
  },
  {
   "cell_type": "code",
   "execution_count": 4,
   "metadata": {},
   "outputs": [
    {
     "data": {
      "text/plain": [
       "([<matplotlib.patches.Wedge at 0x7f8b7591c880>,\n",
       "  <matplotlib.patches.Wedge at 0x7f8b7591cd30>,\n",
       "  <matplotlib.patches.Wedge at 0x7f8b75931400>,\n",
       "  <matplotlib.patches.Wedge at 0x7f8b75931a90>],\n",
       " [Text(0.1743329480840576, 1.0860976121934536, '4-Seam Fastball'),\n",
       "  Text(-1.0751109920408635, -0.23267220459889654, 'Changeup'),\n",
       "  Text(-0.7443020670389453, -0.8099471791429079, 'Curveball'),\n",
       "  Text(0.4837280305738848, -0.9879307629774016, 'Slider')],\n",
       " [Text(0.0950906989549405, 0.5924168793782474, '44.9%'),\n",
       "  Text(-0.5864241774768345, -0.12691211159939808, '16.9%'),\n",
       "  Text(-0.40598294565760645, -0.4417893704415861, '2.6%'),\n",
       "  Text(0.2638516530403008, -0.5388713252604008, '35.5%')])"
      ]
     },
     "execution_count": 4,
     "metadata": {},
     "output_type": "execute_result"
    },
    {
     "data": {
      "image/png": "[encoded data removed]",
      "text/plain": [
       "<Figure size 1080x504 with 1 Axes>"
      ]
     },
     "metadata": {},
     "output_type": "display_data"
    }
   ],
   "source": [
    "name = str(pitcher_data.iloc[0,5])\n",
    "pitches = pitcher_data.groupby(\"pitch_name\", as_index=False)['inning'].count()\n",
    "indexes = pitches['pitch_name']\n",
    "pct = np.array(pitches['inning'])\n",
    "pct = pct/np.sum(pct)\n",
    "plt.figure(figsize=(15,7))\n",
    "plt.title(name + \" pitch arsenal in the 2020 Season\")\n",
    "plt.pie(pct, labels=indexes, autopct='%1.1f%%',)"
   ]
  },
  {
   "cell_type": "markdown",
   "metadata": {},
   "source": [
    "#### Creating Numpy Arrays so we can alter our dataframe"
   ]
  },
  {
   "cell_type": "code",
   "execution_count": 5,
   "metadata": {},
   "outputs": [],
   "source": [
    "pitch_types = pitcher_data['pitch_type'].to_numpy()\n",
    "stances = pitcher_data['stand'].to_numpy()\n",
    "inning_topbot = pitcher_data['inning_topbot'].to_numpy()\n",
    "home_score = pitcher_data['home_score'].to_numpy()\n",
    "away_score = pitcher_data['away_score'].to_numpy()\n",
    "first_base = pitcher_data['on_1b'].to_numpy()\n",
    "second_base = pitcher_data['on_2b'].to_numpy()\n",
    "third_base = pitcher_data['on_3b'].to_numpy()"
   ]
  },
  {
   "cell_type": "markdown",
   "metadata": {},
   "source": [
    "#### Creates a dictionary of each pitch, and the stances of the batter, so we can have numerical values instead of strings as inputs and outputs\n",
    "\n",
    "FF - Four Seam,\n",
    "FC - Cutter,\n",
    "SI - Sinker,\n",
    "CH - Changeup,\n",
    "FS - Split-Finger,\n",
    "SL - Slider,\n",
    "CU - Curveball,\n",
    "KC - Knuckle Curve,\n",
    "CS - Slow Curve,\n",
    "KN - Knuckleball"
   ]
  },
  {
   "cell_type": "markdown",
   "metadata": {},
   "source": [
    "#### For this project, commented out is each pitch getting its own unique numerical value, feel free to uncomment out. However pitches that are fastballs (four-seam, cutter, sinker) are given values of 1, and all off-spead pitches are given a value of 2. The models that I tested was to predict if the pitcher will throw a fastball or offspead pitch."
   ]
  },
  {
   "cell_type": "code",
   "execution_count": 6,
   "metadata": {},
   "outputs": [],
   "source": [
    "#pitches = {'FF': 1, 'FC':2, 'SI':3, 'CH': 4, 'FS':5, 'SL':6, 'CU':7, 'KC':8, 'CS':9, 'KN':10}\n",
    "pitches = {'FF': 1, 'FC':1, 'SI':1, 'CH': 2, 'FS':2, 'SL':2, 'CU':2, 'KC':2, 'CS':2, 'KN':2}"
   ]
  },
  {
   "cell_type": "markdown",
   "metadata": {},
   "source": [
    "#### Dictionary is created for the batter's stance as well. Given value of 0 if hitting lefty, and value of 1 if hitting righty."
   ]
  },
  {
   "cell_type": "code",
   "execution_count": 7,
   "metadata": {},
   "outputs": [],
   "source": [
    "stance = {'L': 0, 'R': 1}"
   ]
  },
  {
   "cell_type": "markdown",
   "metadata": {},
   "source": [
    "#### Assigns a numerical value to the type of pitch, as well as the stance the batter is hitting, based upon the value in the dictionary"
   ]
  },
  {
   "cell_type": "code",
   "execution_count": 8,
   "metadata": {},
   "outputs": [],
   "source": [
    "for i in range(len(pitch_types)):\n",
    "    if(pitch_types[i] in pitches):\n",
    "        pitch_types[i] = pitches[pitch_types[i]]\n",
    "    \n",
    "for i in range(len(stances)):\n",
    "    if(stances[i] in stances):\n",
    "        stances[i] = stance[stances[i]]"
   ]
  },
  {
   "cell_type": "markdown",
   "metadata": {},
   "source": [
    "#### Code to determine whether the pitcher is pitching at home or away, based upon the \"inning_topbot\" column, assigns a 1 to a new array if pitching at home, and a 0 if pitching on the road. Also creates arrays to store the value of the team score, and the opponent's score"
   ]
  },
  {
   "cell_type": "code",
   "execution_count": 9,
   "metadata": {},
   "outputs": [],
   "source": [
    "team_score = []\n",
    "opp_score = []\n",
    "home = []\n",
    "for i in range (len(inning_topbot)):\n",
    "    if(inning_topbot[i]=='Top'):\n",
    "        team_score.append(home_score[i])\n",
    "        opp_score.append(away_score[i])\n",
    "        home.append(1)\n",
    "    else:\n",
    "        team_score.append(away_score[i])\n",
    "        opp_score.append(home_score[i])\n",
    "        home.append(0)"
   ]
  },
  {
   "cell_type": "markdown",
   "metadata": {},
   "source": [
    "#### Instead of having a player_id be the value if a runner is on base, a value of 1 is assigned if there is a runner on a base, and a 0 if the base is empty"
   ]
  },
  {
   "cell_type": "code",
   "execution_count": 10,
   "metadata": {},
   "outputs": [],
   "source": [
    "for i in range(len(first_base)):\n",
    "    if(np.isnan(first_base[i])):\n",
    "        first_base[i] = 0\n",
    "    else:\n",
    "        first_base[i] = 1\n",
    "    if(np.isnan(second_base[i])):\n",
    "        second_base[i] = 0\n",
    "    else:\n",
    "        second_base[i] = 1\n",
    "    if(np.isnan(third_base[i])):\n",
    "        third_base[i] = 0\n",
    "    else:\n",
    "        third_base[i] = 1   "
   ]
  },
  {
   "cell_type": "markdown",
   "metadata": {},
   "source": [
    "#### Adds new columns to the dataframe based upon the arrays created"
   ]
  },
  {
   "cell_type": "code",
   "execution_count": 11,
   "metadata": {},
   "outputs": [],
   "source": [
    "pitcher_data['pitch_type'] = pitch_types\n",
    "pitcher_data['stand'] = stances\n",
    "pitcher_data['team_score'] = team_score\n",
    "pitcher_data['opponent_score'] = opp_score\n",
    "pitcher_data['home_team'] = home\n",
    "pitcher_data['on_1b'] = first_base\n",
    "pitcher_data['on_2b'] = second_base\n",
    "pitcher_data['on_3b'] = third_base"
   ]
  },
  {
   "cell_type": "markdown",
   "metadata": {},
   "source": [
    "#### Adds another new column to the dataframe, which is the difference in the score. Will be positive if pitcher's team is winning, and negative if losing."
   ]
  },
  {
   "cell_type": "code",
   "execution_count": 12,
   "metadata": {},
   "outputs": [],
   "source": [
    "pitcher_data['score_diff'] = pitcher_data['team_score'] - pitcher_data['opponent_score']"
   ]
  },
  {
   "cell_type": "markdown",
   "metadata": {},
   "source": [
    "#### Code to add a new column to dataframe that is the type of pitch thrown before. Each pitch is given a numerical value, corresponding to the key in the pitches dictionary. If the pitch is the first of the at-bat, it is assigned a value of 0, otherwise it is assigned the value of the previous pitch thrown in the at-bat."
   ]
  },
  {
   "cell_type": "code",
   "execution_count": 13,
   "metadata": {},
   "outputs": [],
   "source": [
    "prev_pitch = pitcher_data['pitch_type'].to_numpy()\n",
    "pitch_num = pitcher_data['pitch_number'].to_numpy()\n",
    "prev_pitch = np.flip(prev_pitch)\n",
    "pitch_num = np.flip(pitch_num)\n",
    "\n",
    "prior_pitches = [0]\n",
    "\n",
    "for i in range(1, len(pitch_num)):\n",
    "    if(pitch_num[i] == 1):\n",
    "        prior_pitches.append(0)\n",
    "    else:\n",
    "        prior_pitches.append(prev_pitch[i-1])\n",
    "\n",
    "prior_pitches = np.flip(prior_pitches)\n",
    "pitcher_data['prior_pitch'] = prior_pitches"
   ]
  },
  {
   "cell_type": "markdown",
   "metadata": {},
   "source": [
    "#### Code to add a new column to the dataframe that is the result of the previous pitch of the at-bat. If the pitch is the first of the at-bat, it is assigned a value of 0, otherwise it is assigned a value of 1 if the previous pitch resulted in a ball, and a value of 2 if the previous pitch resulted in a strike, or foul ball."
   ]
  },
  {
   "cell_type": "code",
   "execution_count": 14,
   "metadata": {},
   "outputs": [],
   "source": [
    "prev_pitch_result = pitcher_data['description'].to_numpy()\n",
    "prev_pitch_result = np.flip(prev_pitch_result)\n",
    "\n",
    "prev_results = [0]\n",
    "for i in range(1, len(pitch_num)):\n",
    "    if(pitch_num[i] == 1):\n",
    "        prev_results.append(0)\n",
    "    else:\n",
    "        if('ball' in prev_pitch_result[i-1] or (prev_pitch_result[i-1]=='pitchout')):\n",
    "            prev_results.append(1)\n",
    "        elif(('strike' in prev_pitch_result[i-1]) or ('foul' in prev_pitch_result[i-1]) or prev_pitch_result[i-1] == 'missed_bunt'):\n",
    "            prev_results.append(2)\n",
    "        else:\n",
    "            print(prev_pitch_result[i-1])\n",
    "\n",
    "prev_results = np.flip(prev_results)\n",
    "pitcher_data['prior_pitch_result'] = prev_results"
   ]
  },
  {
   "cell_type": "markdown",
   "metadata": {},
   "source": [
    "#### Creates a new dataframe from the original, that consists of only the columns that we will use in our analysis. The values from the column \"pitch_type\" will be the output, and the values from all other columns will serve as the inputs"
   ]
  },
  {
   "cell_type": "code",
   "execution_count": 15,
   "metadata": {},
   "outputs": [],
   "source": [
    "df = pitcher_data[['home_team','stand', 'pitch_number', 'balls', 'strikes', 'outs_when_up', 'inning', 'on_1b', 'on_2b', 'on_3b', 'score_diff', 'prior_pitch', 'prior_pitch_result', 'pitch_type']]"
   ]
  },
  {
   "cell_type": "code",
   "execution_count": 16,
   "metadata": {},
   "outputs": [
    {
     "data": {
      "text/html": [
       "<div>\n",
       "<style scoped>\n",
       "    .dataframe tbody tr th:only-of-type {\n",
       "        vertical-align: middle;\n",
       "    }\n",
       "\n",
       "    .dataframe tbody tr th {\n",
       "        vertical-align: top;\n",
       "    }\n",
       "\n",
       "    .dataframe thead th {\n",
       "        text-align: right;\n",
       "    }\n",
       "</style>\n",
       "<table border=\"1\" class=\"dataframe\">\n",
       "  <thead>\n",
       "    <tr style=\"text-align: right;\">\n",
       "      <th></th>\n",
       "      <th>home_team</th>\n",
       "      <th>stand</th>\n",
       "      <th>pitch_number</th>\n",
       "      <th>balls</th>\n",
       "      <th>strikes</th>\n",
       "      <th>outs_when_up</th>\n",
       "      <th>inning</th>\n",
       "      <th>on_1b</th>\n",
       "      <th>on_2b</th>\n",
       "      <th>on_3b</th>\n",
       "      <th>score_diff</th>\n",
       "      <th>prior_pitch</th>\n",
       "      <th>prior_pitch_result</th>\n",
       "      <th>pitch_type</th>\n",
       "    </tr>\n",
       "  </thead>\n",
       "  <tbody>\n",
       "    <tr>\n",
       "      <th>0</th>\n",
       "      <td>0</td>\n",
       "      <td>0</td>\n",
       "      <td>10</td>\n",
       "      <td>2</td>\n",
       "      <td>2</td>\n",
       "      <td>2</td>\n",
       "      <td>5</td>\n",
       "      <td>0.0</td>\n",
       "      <td>1.0</td>\n",
       "      <td>0.0</td>\n",
       "      <td>0</td>\n",
       "      <td>1</td>\n",
       "      <td>2</td>\n",
       "      <td>2</td>\n",
       "    </tr>\n",
       "    <tr>\n",
       "      <th>1</th>\n",
       "      <td>0</td>\n",
       "      <td>0</td>\n",
       "      <td>9</td>\n",
       "      <td>2</td>\n",
       "      <td>2</td>\n",
       "      <td>2</td>\n",
       "      <td>5</td>\n",
       "      <td>0.0</td>\n",
       "      <td>1.0</td>\n",
       "      <td>0.0</td>\n",
       "      <td>0</td>\n",
       "      <td>2</td>\n",
       "      <td>2</td>\n",
       "      <td>1</td>\n",
       "    </tr>\n",
       "    <tr>\n",
       "      <th>2</th>\n",
       "      <td>0</td>\n",
       "      <td>0</td>\n",
       "      <td>8</td>\n",
       "      <td>2</td>\n",
       "      <td>2</td>\n",
       "      <td>2</td>\n",
       "      <td>5</td>\n",
       "      <td>0.0</td>\n",
       "      <td>1.0</td>\n",
       "      <td>0.0</td>\n",
       "      <td>0</td>\n",
       "      <td>2</td>\n",
       "      <td>1</td>\n",
       "      <td>2</td>\n",
       "    </tr>\n",
       "    <tr>\n",
       "      <th>3</th>\n",
       "      <td>0</td>\n",
       "      <td>0</td>\n",
       "      <td>7</td>\n",
       "      <td>1</td>\n",
       "      <td>2</td>\n",
       "      <td>2</td>\n",
       "      <td>5</td>\n",
       "      <td>0.0</td>\n",
       "      <td>1.0</td>\n",
       "      <td>0.0</td>\n",
       "      <td>0</td>\n",
       "      <td>2</td>\n",
       "      <td>2</td>\n",
       "      <td>2</td>\n",
       "    </tr>\n",
       "    <tr>\n",
       "      <th>4</th>\n",
       "      <td>0</td>\n",
       "      <td>0</td>\n",
       "      <td>6</td>\n",
       "      <td>1</td>\n",
       "      <td>2</td>\n",
       "      <td>2</td>\n",
       "      <td>5</td>\n",
       "      <td>0.0</td>\n",
       "      <td>1.0</td>\n",
       "      <td>0.0</td>\n",
       "      <td>0</td>\n",
       "      <td>2</td>\n",
       "      <td>2</td>\n",
       "      <td>2</td>\n",
       "    </tr>\n",
       "    <tr>\n",
       "      <th>...</th>\n",
       "      <td>...</td>\n",
       "      <td>...</td>\n",
       "      <td>...</td>\n",
       "      <td>...</td>\n",
       "      <td>...</td>\n",
       "      <td>...</td>\n",
       "      <td>...</td>\n",
       "      <td>...</td>\n",
       "      <td>...</td>\n",
       "      <td>...</td>\n",
       "      <td>...</td>\n",
       "      <td>...</td>\n",
       "      <td>...</td>\n",
       "      <td>...</td>\n",
       "    </tr>\n",
       "    <tr>\n",
       "      <th>1130</th>\n",
       "      <td>1</td>\n",
       "      <td>1</td>\n",
       "      <td>5</td>\n",
       "      <td>1</td>\n",
       "      <td>2</td>\n",
       "      <td>0</td>\n",
       "      <td>1</td>\n",
       "      <td>0.0</td>\n",
       "      <td>0.0</td>\n",
       "      <td>0.0</td>\n",
       "      <td>0</td>\n",
       "      <td>1</td>\n",
       "      <td>2</td>\n",
       "      <td>1</td>\n",
       "    </tr>\n",
       "    <tr>\n",
       "      <th>1131</th>\n",
       "      <td>1</td>\n",
       "      <td>1</td>\n",
       "      <td>4</td>\n",
       "      <td>1</td>\n",
       "      <td>2</td>\n",
       "      <td>0</td>\n",
       "      <td>1</td>\n",
       "      <td>0.0</td>\n",
       "      <td>0.0</td>\n",
       "      <td>0.0</td>\n",
       "      <td>0</td>\n",
       "      <td>1</td>\n",
       "      <td>1</td>\n",
       "      <td>1</td>\n",
       "    </tr>\n",
       "    <tr>\n",
       "      <th>1132</th>\n",
       "      <td>1</td>\n",
       "      <td>1</td>\n",
       "      <td>3</td>\n",
       "      <td>0</td>\n",
       "      <td>2</td>\n",
       "      <td>0</td>\n",
       "      <td>1</td>\n",
       "      <td>0.0</td>\n",
       "      <td>0.0</td>\n",
       "      <td>0.0</td>\n",
       "      <td>0</td>\n",
       "      <td>1</td>\n",
       "      <td>2</td>\n",
       "      <td>1</td>\n",
       "    </tr>\n",
       "    <tr>\n",
       "      <th>1133</th>\n",
       "      <td>1</td>\n",
       "      <td>1</td>\n",
       "      <td>2</td>\n",
       "      <td>0</td>\n",
       "      <td>1</td>\n",
       "      <td>0</td>\n",
       "      <td>1</td>\n",
       "      <td>0.0</td>\n",
       "      <td>0.0</td>\n",
       "      <td>0.0</td>\n",
       "      <td>0</td>\n",
       "      <td>1</td>\n",
       "      <td>2</td>\n",
       "      <td>1</td>\n",
       "    </tr>\n",
       "    <tr>\n",
       "      <th>1134</th>\n",
       "      <td>1</td>\n",
       "      <td>1</td>\n",
       "      <td>1</td>\n",
       "      <td>0</td>\n",
       "      <td>0</td>\n",
       "      <td>0</td>\n",
       "      <td>1</td>\n",
       "      <td>0.0</td>\n",
       "      <td>0.0</td>\n",
       "      <td>0.0</td>\n",
       "      <td>0</td>\n",
       "      <td>0</td>\n",
       "      <td>0</td>\n",
       "      <td>1</td>\n",
       "    </tr>\n",
       "  </tbody>\n",
       "</table>\n",
       "<p>1135 rows × 14 columns</p>\n",
       "</div>"
      ],
      "text/plain": [
       "      home_team stand  pitch_number  balls  strikes  outs_when_up  inning  \\\n",
       "0             0     0            10      2        2             2       5   \n",
       "1             0     0             9      2        2             2       5   \n",
       "2             0     0             8      2        2             2       5   \n",
       "3             0     0             7      1        2             2       5   \n",
       "4             0     0             6      1        2             2       5   \n",
       "...         ...   ...           ...    ...      ...           ...     ...   \n",
       "1130          1     1             5      1        2             0       1   \n",
       "1131          1     1             4      1        2             0       1   \n",
       "1132          1     1             3      0        2             0       1   \n",
       "1133          1     1             2      0        1             0       1   \n",
       "1134          1     1             1      0        0             0       1   \n",
       "\n",
       "      on_1b  on_2b  on_3b  score_diff  prior_pitch  prior_pitch_result  \\\n",
       "0       0.0    1.0    0.0           0            1                   2   \n",
       "1       0.0    1.0    0.0           0            2                   2   \n",
       "2       0.0    1.0    0.0           0            2                   1   \n",
       "3       0.0    1.0    0.0           0            2                   2   \n",
       "4       0.0    1.0    0.0           0            2                   2   \n",
       "...     ...    ...    ...         ...          ...                 ...   \n",
       "1130    0.0    0.0    0.0           0            1                   2   \n",
       "1131    0.0    0.0    0.0           0            1                   1   \n",
       "1132    0.0    0.0    0.0           0            1                   2   \n",
       "1133    0.0    0.0    0.0           0            1                   2   \n",
       "1134    0.0    0.0    0.0           0            0                   0   \n",
       "\n",
       "     pitch_type  \n",
       "0             2  \n",
       "1             1  \n",
       "2             2  \n",
       "3             2  \n",
       "4             2  \n",
       "...         ...  \n",
       "1130          1  \n",
       "1131          1  \n",
       "1132          1  \n",
       "1133          1  \n",
       "1134          1  \n",
       "\n",
       "[1135 rows x 14 columns]"
      ]
     },
     "execution_count": 16,
     "metadata": {},
     "output_type": "execute_result"
    }
   ],
   "source": [
    "df"
   ]
  },
  {
   "cell_type": "markdown",
   "metadata": {},
   "source": [
    "#### The dataframe X is the input columns and the dataframe y is the output column."
   ]
  },
  {
   "cell_type": "code",
   "execution_count": 17,
   "metadata": {},
   "outputs": [],
   "source": [
    "X = np.array(df[['home_team', 'stand', 'pitch_number', 'balls', 'strikes', 'outs_when_up', 'inning', 'on_1b', 'on_2b', 'on_3b', 'score_diff', 'prior_pitch', 'prior_pitch_result']])"
   ]
  },
  {
   "cell_type": "code",
   "execution_count": 18,
   "metadata": {},
   "outputs": [],
   "source": [
    "y = np.array(df[['pitch_type']])\n",
    "y = y.reshape(y.shape[0], )\n",
    "y=y.astype('int')"
   ]
  },
  {
   "cell_type": "markdown",
   "metadata": {},
   "source": [
    "#### Creates a 75-25 train-test-split on all of the data that we have. We will train our models with x_train and y_train, and will test them on x_test, and see how accurate the models were by comparing the results to y_test."
   ]
  },
  {
   "cell_type": "code",
   "execution_count": 19,
   "metadata": {},
   "outputs": [],
   "source": [
    "x_train, x_test, y_train, y_test = train_test_split(X, y, test_size=0.25, random_state=42)"
   ]
  },
  {
   "cell_type": "markdown",
   "metadata": {},
   "source": [
    "# Decision Tree Model"
   ]
  },
  {
   "cell_type": "code",
   "execution_count": 20,
   "metadata": {},
   "outputs": [],
   "source": [
    "clf = DecisionTreeClassifier()"
   ]
  },
  {
   "cell_type": "code",
   "execution_count": 21,
   "metadata": {},
   "outputs": [
    {
     "data": {
      "text/plain": [
       "DecisionTreeClassifier()"
      ]
     },
     "execution_count": 21,
     "metadata": {},
     "output_type": "execute_result"
    }
   ],
   "source": [
    "clf.fit(x_train, y_train)"
   ]
  },
  {
   "cell_type": "code",
   "execution_count": 22,
   "metadata": {},
   "outputs": [],
   "source": [
    "y_pred = clf.predict(x_test)"
   ]
  },
  {
   "cell_type": "code",
   "execution_count": 23,
   "metadata": {},
   "outputs": [
    {
     "name": "stdout",
     "output_type": "stream",
     "text": [
      "The Accuracy of the Decision Tree Model is 0.5704225352112676\n"
     ]
    }
   ],
   "source": [
    "acc = metrics.accuracy_score(y_test, y_pred)\n",
    "print(\"The Accuracy of the Decision Tree Model is\", acc)"
   ]
  },
  {
   "cell_type": "code",
   "execution_count": 24,
   "metadata": {
    "scrolled": true
   },
   "outputs": [
    {
     "data": {
      "text/plain": [
       "<sklearn.metrics._plot.confusion_matrix.ConfusionMatrixDisplay at 0x7f8b75906580>"
      ]
     },
     "execution_count": 24,
     "metadata": {},
     "output_type": "execute_result"
    },
    {
     "data": {
      "image/png": "[encoded data removed]",
      "text/plain": [
       "<Figure size 432x288 with 2 Axes>"
      ]
     },
     "metadata": {
      "needs_background": "light"
     },
     "output_type": "display_data"
    }
   ],
   "source": [
    "plot_confusion_matrix(clf, x_test, y_test) "
   ]
  },
  {
   "cell_type": "markdown",
   "metadata": {},
   "source": [
    "# Neural Network Model"
   ]
  },
  {
   "cell_type": "code",
   "execution_count": 25,
   "metadata": {},
   "outputs": [
    {
     "data": {
      "text/plain": [
       "MLPClassifier(hidden_layer_sizes=30, max_iter=10000)"
      ]
     },
     "execution_count": 25,
     "metadata": {},
     "output_type": "execute_result"
    }
   ],
   "source": [
    "from sklearn.neural_network import MLPClassifier\n",
    "clf = MLPClassifier(solver='adam', alpha=1e-4,\n",
    "                    hidden_layer_sizes=(30), max_iter = 10000, activation = \"relu\")\n",
    "clf.fit(x_train, y_train)"
   ]
  },
  {
   "cell_type": "code",
   "execution_count": 26,
   "metadata": {},
   "outputs": [],
   "source": [
    "y_pred = clf.predict(x_test)"
   ]
  },
  {
   "cell_type": "code",
   "execution_count": 40,
   "metadata": {},
   "outputs": [
    {
     "data": {
      "text/plain": [
       "array([[0.63707551, 0.36292449],\n",
       "       [0.08472258, 0.91527742],\n",
       "       [0.1359056 , 0.8640944 ],\n",
       "       [0.89086468, 0.10913532],\n",
       "       [0.58484116, 0.41515884],\n",
       "       [0.92055759, 0.07944241]])"
      ]
     },
     "execution_count": 40,
     "metadata": {},
     "output_type": "execute_result"
    }
   ],
   "source": [
    "probs = clf.predict_proba(x_test)\n",
    "probs[:6]"
   ]
  },
  {
   "cell_type": "code",
   "execution_count": 28,
   "metadata": {},
   "outputs": [
    {
     "name": "stdout",
     "output_type": "stream",
     "text": [
      "The Accuracy of the Neural Network Model is 0.6443661971830986\n"
     ]
    }
   ],
   "source": [
    "acc = metrics.accuracy_score(y_test, y_pred)\n",
    "print(\"The Accuracy of the Neural Network Model is\", acc)"
   ]
  },
  {
   "cell_type": "code",
   "execution_count": 29,
   "metadata": {
    "scrolled": true
   },
   "outputs": [
    {
     "data": {
      "text/plain": [
       "<sklearn.metrics._plot.confusion_matrix.ConfusionMatrixDisplay at 0x7f8b75b25070>"
      ]
     },
     "execution_count": 29,
     "metadata": {},
     "output_type": "execute_result"
    },
    {
     "data": {
      "image/png": "[encoded data removed]",
      "text/plain": [
       "<Figure size 432x288 with 2 Axes>"
      ]
     },
     "metadata": {
      "needs_background": "light"
     },
     "output_type": "display_data"
    }
   ],
   "source": [
    "plot_confusion_matrix(clf, x_test, y_test) "
   ]
  },
  {
   "cell_type": "markdown",
   "metadata": {},
   "source": [
    "# Random Forest Model"
   ]
  },
  {
   "cell_type": "code",
   "execution_count": 30,
   "metadata": {},
   "outputs": [],
   "source": [
    "clf = RandomForestClassifier(n_estimators=200)\n",
    "clf.fit(x_train, y_train)\n",
    "y_pred = clf.predict(x_test)"
   ]
  },
  {
   "cell_type": "code",
   "execution_count": 31,
   "metadata": {},
   "outputs": [
    {
     "name": "stdout",
     "output_type": "stream",
     "text": [
      "The Accuracy of the Random Forest Model is 0.6197183098591549\n"
     ]
    }
   ],
   "source": [
    "acc = metrics.accuracy_score(y_test, y_pred)\n",
    "print(\"The Accuracy of the Random Forest Model is\", acc)"
   ]
  },
  {
   "cell_type": "code",
   "execution_count": 32,
   "metadata": {},
   "outputs": [
    {
     "data": {
      "text/plain": [
       "<sklearn.metrics._plot.confusion_matrix.ConfusionMatrixDisplay at 0x7f8b74a3e7c0>"
      ]
     },
     "execution_count": 32,
     "metadata": {},
     "output_type": "execute_result"
    },
    {
     "data": {
      "image/png": "[encoded data removed]",
      "text/plain": [
       "<Figure size 432x288 with 2 Axes>"
      ]
     },
     "metadata": {
      "needs_background": "light"
     },
     "output_type": "display_data"
    }
   ],
   "source": [
    "plot_confusion_matrix(clf, x_test, y_test) "
   ]
  },
  {
   "cell_type": "code",
   "execution_count": 39,
   "metadata": {},
   "outputs": [
    {
     "data": {
      "text/plain": [
       "array([[0.63707551, 0.36292449],\n",
       "       [0.08472258, 0.91527742],\n",
       "       [0.1359056 , 0.8640944 ],\n",
       "       [0.89086468, 0.10913532],\n",
       "       [0.58484116, 0.41515884],\n",
       "       [0.92055759, 0.07944241]])"
      ]
     },
     "execution_count": 39,
     "metadata": {},
     "output_type": "execute_result"
    }
   ],
   "source": [
    "#from sklearn.ensemble import decision_path\n",
    "probs = clf.predict_proba(x_test)\n",
    "probs[:6]"
   ]
  },
  {
   "cell_type": "markdown",
   "metadata": {},
   "source": [
    "# Gradient Boosting Model"
   ]
  },
  {
   "cell_type": "code",
   "execution_count": 34,
   "metadata": {},
   "outputs": [],
   "source": [
    "clf = GradientBoostingClassifier(n_estimators=200)\n",
    "clf.fit(x_train, y_train)\n",
    "y_pred = clf.predict(x_test)"
   ]
  },
  {
   "cell_type": "code",
   "execution_count": 38,
   "metadata": {},
   "outputs": [
    {
     "data": {
      "text/plain": [
       "array([[0.63707551, 0.36292449],\n",
       "       [0.08472258, 0.91527742],\n",
       "       [0.1359056 , 0.8640944 ],\n",
       "       [0.89086468, 0.10913532],\n",
       "       [0.58484116, 0.41515884],\n",
       "       [0.92055759, 0.07944241]])"
      ]
     },
     "execution_count": 38,
     "metadata": {},
     "output_type": "execute_result"
    }
   ],
   "source": [
    "probs = clf.predict_proba(x_test)\n",
    "probs[:6]"
   ]
  },
  {
   "cell_type": "code",
   "execution_count": 36,
   "metadata": {},
   "outputs": [
    {
     "name": "stdout",
     "output_type": "stream",
     "text": [
      "The Accuracy of the Gradient Boosting Model is 0.6549295774647887\n"
     ]
    }
   ],
   "source": [
    "acc = metrics.accuracy_score(y_test, y_pred)\n",
    "print(\"The Accuracy of the Gradient Boosting Model is\", acc)"
   ]
  },
  {
   "cell_type": "code",
   "execution_count": 37,
   "metadata": {},
   "outputs": [
    {
     "data": {
      "text/plain": [
       "<sklearn.metrics._plot.confusion_matrix.ConfusionMatrixDisplay at 0x7f8b70a742e0>"
      ]
     },
     "execution_count": 37,
     "metadata": {},
     "output_type": "execute_result"
    },
    {
     "data": {
      "image/png": "[encoded data removed]",
      "text/plain": [
       "<Figure size 432x288 with 2 Axes>"
      ]
     },
     "metadata": {
      "needs_background": "light"
     },
     "output_type": "display_data"
    }
   ],
   "source": [
    "plot_confusion_matrix(clf, x_test, y_test) "
   ]
  },
  {
   "cell_type": "code",
   "execution_count": null,
   "metadata": {},
   "outputs": [],
   "source": []
  }
 ],
 "metadata": {
  "kernelspec": {
   "display_name": "Python 3",
   "language": "python",
   "name": "python3"
  },
  "language_info": {
   "codemirror_mode": {
    "name": "ipython",
    "version": 3
   },
   "file_extension": ".py",
   "mimetype": "text/x-python",
   "name": "python",
   "nbconvert_exporter": "python",
   "pygments_lexer": "ipython3",
   "version": "3.8.3"
  }
 },
 "nbformat": 4,
 "nbformat_minor": 4
}
